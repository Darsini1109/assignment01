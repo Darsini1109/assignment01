{
 "cells": [
  {
   "cell_type": "code",
   "execution_count": 2,
   "id": "f3ab41bc",
   "metadata": {},
   "outputs": [
    {
     "name": "stdout",
     "output_type": "stream",
     "text": [
      "the element 50 occurs 3 times\n"
     ]
    }
   ],
   "source": [
    "# 10, tuple:\n",
    "tuple1 = (50, 10, 60, 70, 50,83,567,50,81)\n",
    "x = [i for i in tuple1 if i == 50]\n",
    "print(\"the element 50 occurs\", len(x), \"times\")"
   ]
  },
  {
   "cell_type": "code",
   "execution_count": 6,
   "id": "bc00b2fd",
   "metadata": {},
   "outputs": [
    {
     "name": "stdout",
     "output_type": "stream",
     "text": [
      "(10, 20, 43, 54, 56, 68)\n",
      "(43, 54)\n"
     ]
    }
   ],
   "source": [
    "#9, creation of new tuple from new tuple:\n",
    "tuples = (10, 20, 43, 54, 56, 68)\n",
    "print(tuples)\n",
    "tuples =  43,54\n",
    "print(tuples)"
   ]
  },
  {
   "cell_type": "code",
   "execution_count": 1,
   "id": "70a91432",
   "metadata": {},
   "outputs": [
    {
     "name": "stdout",
     "output_type": "stream",
     "text": [
      "Merged Dictionary {\"'name': 'Brad', 'salary': 500\", \"'name': 'Emma', 'salary': 8000\"}\n"
     ]
    }
   ],
   "source": [
    "#8. Write a Python program to change Brad’s salary to 8500 in the following dictionary.\n",
    "\n",
    "emp1 = {\"'name': 'John', 'salary': 7500\"}\n",
    "emp2 = {\"'name': 'Emma', 'salary': 8000\"}\n",
    "emp3 = {\"'name': 'Brad', 'salary': 500\"}\n",
    "emp3.update(emp2)\n",
    "print(\"Merged Dictionary\",emp3)\n",
    "\n"
   ]
  },
  {
   "cell_type": "code",
   "execution_count": 8,
   "id": "c6c163c1",
   "metadata": {},
   "outputs": [
    {
     "name": "stdout",
     "output_type": "stream",
     "text": [
      "After changing the key city to location\n"
     ]
    },
    {
     "data": {
      "text/plain": [
       "{'name': 'John', 'age': 5, 'salary': 8000, 'location': 'New York'}"
      ]
     },
     "execution_count": 8,
     "metadata": {},
     "output_type": "execute_result"
    }
   ],
   "source": [
    "#7.rename a key city to a location:\n",
    "\n",
    "sample_dict = { \"name\": \"John\", \"age\":5, \"salary\": 8000, \"city\": \"New York\"}\n",
    "sample_dict['location']=sample_dict['city']\n",
    "del sample_dict['city']\n",
    "print(\"After changing the key city to location\")\n",
    "sample_dict"
   ]
  },
  {
   "cell_type": "code",
   "execution_count": 10,
   "id": "0f43e19e",
   "metadata": {},
   "outputs": [
    {
     "name": "stdout",
     "output_type": "stream",
     "text": [
      "['12,23,45,56,34,78,9,12']\n",
      "['69,77', '12,23,45,56,34,78,9,12']\n"
     ]
    }
   ],
   "source": [
    "#6. to insert a number to any position in a list\n",
    "\n",
    "\n",
    "lst = [\"12,23,45,56,34,78,9,12\"]\n",
    "print(lst)\n",
    "insertItem = \"69,77\"\n",
    "lst.insert(0, insertItem)\n",
    "print(lst)"
   ]
  },
  {
   "cell_type": "code",
   "execution_count": 11,
   "id": "73a44a4c",
   "metadata": {},
   "outputs": [
    {
     "name": "stdout",
     "output_type": "stream",
     "text": [
      "Enter radius of the circle7\n",
      "Area of circle with radius 7 is 153.86\n"
     ]
    }
   ],
   "source": [
    "#5.area of circle:\n",
    "\n",
    "\n",
    "r=int(input(\"Enter radius of the circle\"))\n",
    "area = 3.14*r*r\n",
    "print(\"Area of circle with radius\",r,\"is\",area)\n",
    " \n",
    "\n"
   ]
  },
  {
   "cell_type": "code",
   "execution_count": 12,
   "id": "30b89f4e",
   "metadata": {},
   "outputs": [
    {
     "name": "stdout",
     "output_type": "stream",
     "text": [
      "['Learn', 'Python', 'by Developing', 'Website']\n",
      "Learn**Python** by Developing a **Website**:\n",
      "['***', 'Learn', 'Python', 'by Developing', 'Website']\n"
     ]
    }
   ],
   "source": [
    "#4.to display the follows“Learn**Python** by Developing a **Website**”:\n",
    "\n",
    "lst = [\"Learn\", \"Python\",  \"by Developing\", \"Website\"]\n",
    "print(lst)\n",
    "insertItem = \"***\"\n",
    "lst.insert(0, insertItem)\n",
    "print(\"Learn**Python** by Developing a **Website**:\")\n",
    "print(lst)"
   ]
  },
  {
   "cell_type": "code",
   "execution_count": 16,
   "id": "71310576",
   "metadata": {},
   "outputs": [
    {
     "name": "stdout",
     "output_type": "stream",
     "text": [
      "Product of 8 and 7 is 56\n"
     ]
    }
   ],
   "source": [
    "#3. to accept two numbers from the user and display its product.\n",
    "\n",
    "\n",
    "num_1 = 8\n",
    "num_2 = 7\n",
    "product = num_1 * num_2\n",
    "print(\"Product of {} and {} is {}\".format(num_1, num_2,product))"
   ]
  },
  {
   "cell_type": "code",
   "execution_count": 2,
   "id": "6c7b8419",
   "metadata": {},
   "outputs": [
    {
     "name": "stdout",
     "output_type": "stream",
     "text": [
      "Enter temperature in celsius: 67\n",
      "67.0 degree Celsius is equal to 152.60000000000002 degree Fahrenheit.\n"
     ]
    }
   ],
   "source": [
    "#2. to convert temperatures to and from Celsius Fahrenheit. \n",
    "\n",
    "celsius = float(input(\"Enter temperature in celsius: \"))\n",
    "fahrenheit = (celsius * 1.8) + 32\n",
    "print(str(celsius )+ \" degree Celsius is equal to \" + str(fahrenheit )+ \" degree Fahrenheit.\")\n"
   ]
  },
  {
   "cell_type": "code",
   "execution_count": null,
   "id": "2cfcae6b",
   "metadata": {},
   "outputs": [],
   "source": [
    "#1.to accept the details of a student like name, roll number and mark and display it.\n",
    "    \n",
    "class student :\n",
    "    def getData(self,rn,name,m1):\n",
    "        self.rn = rn\n",
    "        self.name = name\n",
    "        self.marks.append(m1)\n",
    "    \n",
    "    def displayData(self):\n",
    "        print(\"Roll Number is:\", Self.rn)\n",
    "        print(\"Name is:\",self.name)\n",
    "        print(\"marks\",self.mark)\n",
    "        print(\"marks are:\",self.marks)\n",
    "        \n",
    "    def _init_(self,):\n",
    "        return(self.marks[0])\n",
    "        \n",
    "    \n",
    "rn = int(input(\"enter the roll number:\"))\n",
    "name = input(\"enter the name:\")\n",
    "m1 = int(input(\"enter the marks:\"))\n",
    "    \n",
    "\n",
    "st1.getData(rn,name,m1)\n",
    "st1.displayData()\n",
    "    "
   ]
  },
  {
   "cell_type": "code",
   "execution_count": null,
   "id": "dc91c02e",
   "metadata": {},
   "outputs": [],
   "source": []
  }
 ],
 "metadata": {
  "kernelspec": {
   "display_name": "Python 3 (ipykernel)",
   "language": "python",
   "name": "python3"
  },
  "language_info": {
   "codemirror_mode": {
    "name": "ipython",
    "version": 3
   },
   "file_extension": ".py",
   "mimetype": "text/x-python",
   "name": "python",
   "nbconvert_exporter": "python",
   "pygments_lexer": "ipython3",
   "version": "3.9.7"
  }
 },
 "nbformat": 4,
 "nbformat_minor": 5
}
